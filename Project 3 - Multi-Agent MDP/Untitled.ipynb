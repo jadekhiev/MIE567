{
 "cells": [
  {
   "cell_type": "code",
   "execution_count": 28,
   "metadata": {},
   "outputs": [],
   "source": [
    "from scipy.optimize import linprog\n",
    "import numpy as np"
   ]
  },
  {
   "cell_type": "code",
   "execution_count": 59,
   "metadata": {},
   "outputs": [],
   "source": [
    "# c = [vector p, v]\n",
    "c = [0, 0, 0, 0, -1]\n",
    "\n",
    "# A - minimax constraints, v must be the minimum reward\n",
    "q_neg = -1*Q\n",
    "v_col = np.ones((4,1))\n",
    "#A = np.concatenate((q_neg,v_col),1)\n",
    "A = both\n",
    "b = [0, 0, 0, 0]\n",
    "\n",
    "# Aeq, vector p = 1\n",
    "Aeq = [[1, 1, 1, 1, 0]]\n",
    "beq = [[1]]\n",
    "\n",
    "# bound tuples\n",
    "bounds = ((0,1),(0,1),(0,1),(0,1),(0, None))"
   ]
  },
  {
   "cell_type": "code",
   "execution_count": 9,
   "metadata": {},
   "outputs": [
    {
     "data": {
      "text/plain": [
       "     fun: -0.0\n",
       " message: 'Optimization terminated successfully.'\n",
       "     nit: 0\n",
       "   slack: array([], dtype=float64)\n",
       "  status: 0\n",
       " success: True\n",
       "       x: array([0.])"
      ]
     },
     "execution_count": 9,
     "metadata": {},
     "output_type": "execute_result"
    }
   ],
   "source": [
    "optimize.linprog(c)"
   ]
  },
  {
   "cell_type": "code",
   "execution_count": 22,
   "metadata": {},
   "outputs": [],
   "source": [
    "Q = np.ones((4,4))"
   ]
  },
  {
   "cell_type": "code",
   "execution_count": 26,
   "metadata": {},
   "outputs": [
    {
     "name": "stdout",
     "output_type": "stream",
     "text": [
      "[0, 0, 0, 0, 1]\n",
      "[[-1. -1. -1. -1.  1.]\n",
      " [-1. -1. -1. -1.  1.]\n",
      " [-1. -1. -1. -1.  1.]\n",
      " [-1. -1. -1. -1.  1.]]\n",
      "[0, 0, 0, 0]\n",
      "[1, 1, 1, 1, 0]\n",
      "[1]\n",
      "((0, 1), (0, 1), (0, 1), (0, 1), (None, None))\n"
     ]
    }
   ],
   "source": [
    "print(c)\n",
    "print(A)\n",
    "print(b)\n",
    "print(Aeq)\n",
    "print(beq)\n",
    "print(bounds)"
   ]
  },
  {
   "cell_type": "code",
   "execution_count": 60,
   "metadata": {},
   "outputs": [
    {
     "name": "stdout",
     "output_type": "stream",
     "text": [
      "Optimization terminated successfully.\n",
      "         Current function value: -1.893617   \n",
      "         Iterations: 5\n"
     ]
    }
   ],
   "source": [
    "res = linprog(c, A_ub=A, b_ub=b, A_eq=Aeq, b_eq=beq, bounds=bounds, options={\"disp\": True})"
   ]
  },
  {
   "cell_type": "code",
   "execution_count": 63,
   "metadata": {},
   "outputs": [
    {
     "data": {
      "text/plain": [
       "array([0.06382979, 0.22340426, 0.41489362, 0.29787234])"
      ]
     },
     "execution_count": 63,
     "metadata": {},
     "output_type": "execute_result"
    }
   ],
   "source": [
    "res['x'][:4]"
   ]
  },
  {
   "cell_type": "code",
   "execution_count": 44,
   "metadata": {},
   "outputs": [
    {
     "data": {
      "text/plain": [
       "[[1, 1, 1, 1, 0]]"
      ]
     },
     "execution_count": 44,
     "metadata": {},
     "output_type": "execute_result"
    }
   ],
   "source": [
    "[Aeq]"
   ]
  },
  {
   "cell_type": "code",
   "execution_count": 50,
   "metadata": {},
   "outputs": [],
   "source": [
    "both = np.array([[-1., -1., -1., -1.,  1.],\n",
    "       [-1., -1., -1., -1.,  1.],\n",
    "       [-1., -1., -1., -1.,  1.],\n",
    "       [-1., -1., -1., -1.,  1.]])\n"
   ]
  },
  {
   "cell_type": "code",
   "execution_count": 56,
   "metadata": {},
   "outputs": [
    {
     "data": {
      "text/plain": [
       "array([[ -2.,  -1.,  -3.,  -1.,   1.],\n",
       "       [ -1.,  -5.,  -1.,  -1.,   1.],\n",
       "       [ -1.,  -1.,  -1.,  -4.,   1.],\n",
       "       [-15.,  -1.,  -1.,  -1.,   1.]])"
      ]
     },
     "execution_count": 56,
     "metadata": {},
     "output_type": "execute_result"
    }
   ],
   "source": [
    "both"
   ]
  },
  {
   "cell_type": "code",
   "execution_count": 55,
   "metadata": {},
   "outputs": [],
   "source": [
    "both = np.array([[-2., -1., -3., -1.,  1.],\n",
    "       [-1., -5., -1., -1.,  1.],\n",
    "       [-1., -1., -1., -4.,  1.],\n",
    "       [-15., -1., -1., -1.,  1.]])"
   ]
  },
  {
   "cell_type": "code",
   "execution_count": null,
   "metadata": {},
   "outputs": [],
   "source": []
  }
 ],
 "metadata": {
  "kernelspec": {
   "display_name": "Python 3",
   "language": "python",
   "name": "python3"
  },
  "language_info": {
   "codemirror_mode": {
    "name": "ipython",
    "version": 3
   },
   "file_extension": ".py",
   "mimetype": "text/x-python",
   "name": "python",
   "nbconvert_exporter": "python",
   "pygments_lexer": "ipython3",
   "version": "3.6.6"
  }
 },
 "nbformat": 4,
 "nbformat_minor": 2
}
